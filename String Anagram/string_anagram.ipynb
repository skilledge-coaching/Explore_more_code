{
 "cells": [
  {
   "cell_type": "markdown",
   "metadata": {},
   "source": [
    "## Comparing two strings for ANAGRAMS"
   ]
  },
  {
   "cell_type": "code",
   "execution_count": 1,
   "metadata": {},
   "outputs": [
    {
     "name": "stdout",
     "output_type": "stream",
     "text": [
      "first string: LISTEN\n",
      "Second String SILENT\n",
      "True\n"
     ]
    }
   ],
   "source": [
    "str1 = \"Listen\"\n",
    "str2 = \"Silent\"\n",
    "\n",
    "str1 = str1.replace(\" \", \"\").upper()\n",
    "str2 = str2.replace(\" \", \"\").upper()\n",
    "\n",
    "print(f\"first string: {str1}\")\n",
    "print(f\"Second String {str2}\")\n",
    "\n",
    "if sorted(str1) == sorted(str2):\n",
    "    print(\"True\")\n",
    "else:\n",
    "    print(\"False\")"
   ]
  }
 ],
 "metadata": {
  "kernelspec": {
   "display_name": "base",
   "language": "python",
   "name": "python3"
  },
  "language_info": {
   "codemirror_mode": {
    "name": "ipython",
    "version": 3
   },
   "file_extension": ".py",
   "mimetype": "text/x-python",
   "name": "python",
   "nbconvert_exporter": "python",
   "pygments_lexer": "ipython3",
   "version": "3.11.7"
  }
 },
 "nbformat": 4,
 "nbformat_minor": 2
}
