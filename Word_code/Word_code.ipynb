{
 "cells": [
  {
   "cell_type": "code",
   "execution_count": 2,
   "metadata": {},
   "outputs": [
    {
     "name": "stdout",
     "output_type": "stream",
     "text": [
      "Current word: s\n",
      "Current word: sk\n",
      "Current word: ski\n",
      "Current word: skil\n",
      "Current word: skill\n",
      "Current word: skille\n",
      "Current word: skilled\n",
      "Current word: skilledg\n",
      "Current word: skilledge\n",
      "Current word: skilledge \n",
      "Current word: skilledge c\n",
      "Current word: skilledge co\n",
      "Current word: skilledge coa\n",
      "Current word: skilledge coac\n",
      "Current word: skilledge coach\n",
      "Current word: skilledge coachi\n",
      "Current word: skilledge coachin\n",
      "Current word: skilledge coaching\n",
      "The constructed word is: skilledge coaching\n"
     ]
    }
   ],
   "source": [
    "word = input(\"Enter a word: \")  # Take input from the user\n",
    "word = word.lower()  # Convert the word to lowercase\n",
    "result = \"\"\n",
    "\n",
    "for _ in range(len(word)):\n",
    "    for letter in \"abcdefghijklmnopqrstuvwxyz \":  # Iterate through all lowercase letters\n",
    "        if letter == word[len(result)]:  # Check if the current letter matches the next letter in the word\n",
    "            result += letter  # Add the matching letter to the result\n",
    "            print(f\"Current word: {result}\")  # Print the progress\n",
    "            break\n",
    "\n",
    "print(f\"The constructed word is: {result}\")"
   ]
  }
 ],
 "metadata": {
  "kernelspec": {
   "display_name": "base",
   "language": "python",
   "name": "python3"
  },
  "language_info": {
   "codemirror_mode": {
    "name": "ipython",
    "version": 3
   },
   "file_extension": ".py",
   "mimetype": "text/x-python",
   "name": "python",
   "nbconvert_exporter": "python",
   "pygments_lexer": "ipython3",
   "version": "3.11.7"
  }
 },
 "nbformat": 4,
 "nbformat_minor": 2
}
