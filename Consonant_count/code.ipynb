{
 "cells": [
  {
   "cell_type": "markdown",
   "metadata": {},
   "source": [
    "## Counting CONSONANTS in a Given Word"
   ]
  },
  {
   "cell_type": "code",
   "execution_count": 1,
   "metadata": {},
   "outputs": [
    {
     "name": "stdout",
     "output_type": "stream",
     "text": [
      "Consonants count in the word is 12 and the consonants are ['S', 'k', 'l', 'l', 'd', 'g', ' ', 'c', 'c', 'h', 'n', 'g']\n"
     ]
    }
   ],
   "source": [
    "vowel = ['a', 'e', 'i', 'o','u']\n",
    "\n",
    "word = input(\"Enter a word: \")\n",
    "count = 0\n",
    "char = []\n",
    "for character in word:\n",
    "    if character not in vowel:\n",
    "        char.append(character)\n",
    "        count += 1\n",
    "\n",
    "print(f\"Consonants count in the word is {count} and the consonants are {char}\")"
   ]
  }
 ],
 "metadata": {
  "kernelspec": {
   "display_name": "base",
   "language": "python",
   "name": "python3"
  },
  "language_info": {
   "codemirror_mode": {
    "name": "ipython",
    "version": 3
   },
   "file_extension": ".py",
   "mimetype": "text/x-python",
   "name": "python",
   "nbconvert_exporter": "python",
   "pygments_lexer": "ipython3",
   "version": "3.11.7"
  }
 },
 "nbformat": 4,
 "nbformat_minor": 2
}
