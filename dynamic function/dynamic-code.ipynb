{
 "cells": [
  {
   "cell_type": "markdown",
   "metadata": {},
   "source": [
    "# Implementing variable Length arguments in Python"
   ]
  },
  {
   "cell_type": "code",
   "execution_count": 1,
   "metadata": {},
   "outputs": [
    {
     "name": "stdout",
     "output_type": "stream",
     "text": [
      "Average is: 46.18\n",
      "Average is: 44.77\n"
     ]
    }
   ],
   "source": [
    "def average(*t):\n",
    "    avg = sum(t)/len(t)\n",
    "    return round(avg, 2)\n",
    "\n",
    "result1 = average(32,44,23,12,67,54,87,65,90,23,11)\n",
    "result2 = average(45,77,87,23,52,21,89,8,43,59,11,24,43)\n",
    "\n",
    "print(f\"Average is: {result1}\")\n",
    "print(f\"Average is: {result2}\")"
   ]
  }
 ],
 "metadata": {
  "kernelspec": {
   "display_name": "base",
   "language": "python",
   "name": "python3"
  },
  "language_info": {
   "codemirror_mode": {
    "name": "ipython",
    "version": 3
   },
   "file_extension": ".py",
   "mimetype": "text/x-python",
   "name": "python",
   "nbconvert_exporter": "python",
   "pygments_lexer": "ipython3",
   "version": "3.11.7"
  }
 },
 "nbformat": 4,
 "nbformat_minor": 2
}
