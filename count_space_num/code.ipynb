{
 "cells": [
  {
   "cell_type": "markdown",
   "metadata": {},
   "source": [
    "## Counting Digits, Letters, and Spaces in a String"
   ]
  },
  {
   "cell_type": "code",
   "execution_count": 1,
   "metadata": {},
   "outputs": [
    {
     "name": "stdout",
     "output_type": "stream",
     "text": [
      "Total digit count is 1\n",
      "Total letter count is 8\n",
      "Total space count is 2\n"
     ]
    }
   ],
   "source": [
    "import re\n",
    "\n",
    "name = \"Python is 1\"\n",
    "\n",
    "digitcount = re.sub(\"[^0-9]\", \"\", name)\n",
    "lettercount = re.sub(\"[^a-zA-Z]\", \"\", name)\n",
    "spacecount = re.findall(\"[ \\s]\", name)\n",
    "\n",
    "print(f\"Total digit count is {len(digitcount)}\")\n",
    "print(f\"Total letter count is {len(lettercount)}\")\n",
    "print(f\"Total space count is {len(spacecount)}\")\n"
   ]
  }
 ],
 "metadata": {
  "kernelspec": {
   "display_name": "base",
   "language": "python",
   "name": "python3"
  },
  "language_info": {
   "codemirror_mode": {
    "name": "ipython",
    "version": 3
   },
   "file_extension": ".py",
   "mimetype": "text/x-python",
   "name": "python",
   "nbconvert_exporter": "python",
   "pygments_lexer": "ipython3",
   "version": "3.11.7"
  }
 },
 "nbformat": 4,
 "nbformat_minor": 2
}
