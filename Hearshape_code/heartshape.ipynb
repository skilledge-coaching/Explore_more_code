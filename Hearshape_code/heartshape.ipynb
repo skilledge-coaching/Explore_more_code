{
 "cells": [
  {
   "cell_type": "code",
   "execution_count": 1,
   "metadata": {},
   "outputs": [
    {
     "name": "stdout",
     "output_type": "stream",
     "text": [
      "    \n",
      "   * * *   * * *\n",
      "  *     * *     *\n",
      "   *           *\n",
      "    *         *\n",
      "     *       *\n",
      "      *     *\n",
      "       *   *\n",
      "        * *\n",
      "         *\n",
      "    \n"
     ]
    }
   ],
   "source": [
    "# Get the letter input from the user\n",
    "letter = input(\"Enter a letter to fill the heart: \")  \n",
    "\n",
    "# Ensure only a single character is used\n",
    "if len(letter) != 1:\n",
    "    print(\"Please enter a single character.\")\n",
    "else:\n",
    "    # Print the heart with the specified letter\n",
    "    heart = f\"\"\"    \n",
    "   {letter} {letter} {letter}   {letter} {letter} {letter}\n",
    "  {letter}     {letter} {letter}     {letter}\n",
    "   {letter}           {letter}\n",
    "    {letter}         {letter}\n",
    "     {letter}       {letter}\n",
    "      {letter}     {letter}\n",
    "       {letter}   {letter}\n",
    "        {letter} {letter}\n",
    "         {letter}\n",
    "    \"\"\"\n",
    "    print(heart)\n"
   ]
  }
 ],
 "metadata": {
  "kernelspec": {
   "display_name": "base",
   "language": "python",
   "name": "python3"
  },
  "language_info": {
   "codemirror_mode": {
    "name": "ipython",
    "version": 3
   },
   "file_extension": ".py",
   "mimetype": "text/x-python",
   "name": "python",
   "nbconvert_exporter": "python",
   "pygments_lexer": "ipython3",
   "version": "3.11.7"
  }
 },
 "nbformat": 4,
 "nbformat_minor": 2
}
